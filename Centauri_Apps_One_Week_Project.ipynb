{
  "cells": [
    {
      "cell_type": "markdown",
      "metadata": {
        "id": "p99uWnrRnOXK"
      },
      "source": [
        "#Centauri App - One Week Project\n",
        "# Fitur-fitur Sistem Peminjaman Alat Elektronik:\n",
        "\n",
        "1. **Inisiasi Nama Software**\n",
        "   - Fitur ini memungkinkan pengguna untuk menginisiasi nama software saat pertama kali menjalankan sistem.\n",
        "\n",
        "2. **Pendaftaran Anggota**\n",
        "   - Fitur ini memungkinkan pengguna untuk mendaftarkan diri sebagai anggota dengan menyediakan informasi seperti nama, alamat, nomor telepon, username, dan password.\n",
        "\n",
        "3. **Login**\n",
        "   - Pengguna dapat melakukan login ke dalam sistem dengan menggunakan username dan password yang telah didaftarkan.\n",
        "\n",
        "4. **Cari dan Daftar Alat Elektronik**\n",
        "   - Pengguna dapat mencari alat elektronik berdasarkan kategori tertentu dan melihat daftar alat yang sesuai dengan kriteria pencarian.\n",
        "\n",
        "5. **Pinjam Alat Elektronik**\n",
        "   - Fitur ini memungkinkan pengguna untuk meminjam alat elektronik yang tersedia dalam sistem.\n",
        "   - `admin, staff` dapat membuat request peminjaman untuk user\n",
        "\n",
        "6. **Kembalikan Alat Elektronik**\n",
        "   - Pengguna dapat mengembalikan alat elektronik yang telah dipinjam sebelumnya.\n",
        "\n",
        "7. **Status Ketersediaan Alat Elektronik**\n",
        "   - Fitur ini memungkinkan pengguna untuk melihat status ketersediaan alat elektronik, apakah alat tersebut tersedia untuk dipinjam atau sedang dipinjam oleh pengguna lain.\n",
        "\n",
        "8. **Riwayat Peminjaman**\n",
        "   - Pengguna dapat melihat riwayat peminjaman alat elektronik, baik secara pribadi.\n",
        "   - `admin, staff` dapat melihat riwayat user berdasarkan `nama` dan seluruh Daftar Riwayat dari berbagi User\n",
        "\n",
        "9. **Manajemen Data Alat Elektronik**\n",
        "   - Admin memiliki akses untuk menambah, menghapus, atau mengubah data alat elektronik dalam sistem.\n",
        "\n",
        "10. **Manajemen Akun**\n",
        "    - Admin dapat mengelola akun pengguna, termasuk menambah, menghapus, mengubah, atau melihat profil akun.\n",
        "\n",
        "11. **Logout**\n",
        "    - Pengguna dapat keluar dari sesi login mereka.\n",
        "\n",
        "12. **Exit**\n",
        "    - Pengguna dapat keluar dari sistem secara keseluruhan.\n",
        "\n",
        "\n"
      ]
    },
    {
      "cell_type": "markdown",
      "metadata": {
        "id": "dxMtvX0Oo6CR"
      },
      "source": [
        "###Inisiasi()\n",
        "  - Insiasi Nama Software Berdasarkan inputan dari Pengguna Software"
      ]
    },
    {
      "cell_type": "code",
      "execution_count": 2,
      "metadata": {
        "id": "T_XEX7Samb_0"
      },
      "outputs": [],
      "source": [
        "import datetime\n",
        "def inisiasi():\n",
        "  print(\"Welcome To Centauri Apps\\n\")\n",
        "  nama_software = input(\"Ketikan Nama Software yang baru: \\n\")\n",
        "  print(f\"Software Terinisiasi: {nama_software}\")\n",
        "  return nama_software"
      ]
    },
    {
      "cell_type": "markdown",
      "metadata": {
        "id": "IUmUE9IinNa-"
      },
      "source": [
        "###Penyimpanan Data (List Tuple)\n",
        " - Menyimpan variabel `anggota` untuk Profil admin, staff dan user sebagai pengunjung yang terikat terhadap akunnya masing masing\n",
        " - Menyimpan data peminjaman pada List `riwayat_peminjaman` yang di lakukan oleh user"
      ]
    },
    {
      "cell_type": "code",
      "execution_count": 3,
      "metadata": {
        "id": "Ei1xuJi3qLoI"
      },
      "outputs": [],
      "source": [
        "anggota = [\n",
        "    {\n",
        "    'nama': 'febri-admin',\n",
        "    'alamat': 'Singapore',\n",
        "    'nomor_telepon': '6282321555232',\n",
        "    'nik': '320000000',\n",
        "    'username': 'admin',\n",
        "    'password': 'admin',\n",
        "    'level': 'admin'\n",
        "    },\n",
        "    {\n",
        "    'nama': 'febri-staff',\n",
        "    'alamat': 'Singapore',\n",
        "    'nomor_telepon': '6282321555232',\n",
        "    'nik': '320000000',\n",
        "    'username': 'staff',\n",
        "    'password': 'staff',\n",
        "    'level': 'staff'\n",
        "    },\n",
        "    {\n",
        "    'nama': 'febri-pengunjung',\n",
        "    'alamat': 'Singapore',\n",
        "    'nomor_telepon': '6282321555232',\n",
        "    'nik': '320000000',\n",
        "    'username': 'pengunjung',\n",
        "    'password': 'pengunjung',\n",
        "    'level': 'pengunjung'\n",
        "    }\n",
        "  ]\n",
        "\n",
        "alat_proyektor = [\n",
        "       {'nomor_inventaris': 'A001', 'nama': 'Proyektor 1', 'deskripsi': 'Proyektor untuk presentasi', 'status': 'tersedia'},\n",
        "       {'nomor_inventaris': 'A002', 'nama': 'Proyektor 2', 'deskripsi': 'Proyektor untuk meeting', 'status': 'tersedia'}\n",
        "]\n",
        "\n",
        "riwayat_peminjaman = []"
      ]
    },
    {
      "cell_type": "markdown",
      "metadata": {
        "id": "Ru0SKasDroh0"
      },
      "source": [
        "###registrasi_anggota()\n",
        "  - Function untuk registrasi pengguna untuk membuat profil\n",
        "  - membuat akun pengguna yang terhubung pada profil pengguna\n",
        "\n",
        "Spesifikasi Parameter\n",
        "- A. Profil\n",
        "  1. Nama `(String)`\n",
        "  2. Alamat `(string)`\n",
        "  3. Nomor Telepon `(Integer)`\n",
        "  4. NIK `(Integer)`\n",
        "\n",
        "- B. Akun\n",
        "  1. Username `(String)`\n",
        "  2. Password `(String)`\n",
        "\n",
        "\n",
        "####Note: `append()`\n",
        "  - Menyisipkan Element ke dalam Tuple List yang di gunakan sebagai template dengan acuan variabel yang di beri nama `anggota`"
      ]
    },
    {
      "cell_type": "code",
      "execution_count": 4,
      "metadata": {
        "id": "VUPBpXBEs2TG"
      },
      "outputs": [],
      "source": [
        "def registrasi_anggota():\n",
        "  nama = input(\"Nama Kamu: \")\n",
        "  alamat = input(\"Alamat/Domisili: \")\n",
        "  nomor_telepon = input(\"Hp/Wahtsapp: \")\n",
        "  nik = int(input(\"NIK (16 Digits): \"))\n",
        "  username = input(\"Username Baru: \")\n",
        "  password = input(\"Password Baru: \")\n",
        "  anggota.append({\n",
        "    'nama': nama,\n",
        "    'alamat': alamat,\n",
        "    'nomor_telepon': nomor_telepon,\n",
        "    'nik': nik,\n",
        "    'username': username,\n",
        "    'password': password,\n",
        "    'level': 'pengunjung'\n",
        "    })"
      ]
    },
    {
      "cell_type": "markdown",
      "metadata": {
        "id": "s0PZmxjIuq-_"
      },
      "source": [
        "###verifikasi()\n",
        " - Function untuk akses ke dalam Centauri Apps\n",
        " - Multi Level login detection (pengunjung, staff atau admin)"
      ]
    },
    {
      "cell_type": "code",
      "execution_count": null,
      "metadata": {
        "id": "pYIiXPygu_CQ"
      },
      "outputs": [],
      "source": [
        "def verifikasi():\n",
        "  username = input(\"Username Anda: \")\n",
        "  password = input(\"Password Anda: \")\n",
        "  check = next((akun for akun in anggota if akun['username'] == username and akun['password'] == password), None)\n",
        "  if check:\n",
        "    if check['level'] != 'admin':\n",
        "      print(f\"Selamat Datang, {check['nama']}! Anda Berhasil Login Sebagai {check['level']}\")\n",
        "      return check\n",
        "    else:\n",
        "      print(f\"Selamat Datang, {check['nama']}! Anda Berhasil Login Sebagai {check['level']}\")\n",
        "      return check\n",
        "  else:\n",
        "    print(\"Username atau Password Salah !\\n\")\n",
        "    return None"
      ]
    },
    {
      "cell_type": "markdown",
      "metadata": {
        "id": "kMzwD0W_wfFG"
      },
      "source": [
        "####Penjelasan variabel `check`, dan function `next()`\n",
        "\n",
        " - `check` akan melakukan perulangan pada variabel `anggota` dan hasil dari pengecekan akan di sebut sebagai `akun` lalu menyeleksi apakah terdapat nilai dari inputan `username` dan `password` yang cocok/terdaftar, jika hasilnya positif maka akan mengembalikan nilai secara default sebagau `True`, namun jika tidak maka akan mengembalikan output sebagai `None` atau `false` dan akan mencetak bahwa `akun tidak terdaftar`\n",
        "\n",
        " - function `next()` di gunakan untuk mengembalikan nilai `iterator` pada hal ini adalah `akun` yang kita gunakan sebagai `iterator`, setiap rumpun iterasi di pisahkan oleh `{}` sebagai `satu rumpun iterator dalam list`"
      ]
    },
    {
      "cell_type": "markdown",
      "metadata": {
        "id": "h2E1NP4CyXwS"
      },
      "source": [
        "####daftar_alat()\n",
        "  - Mencari alat berdasarkan Nama atau Deskripsi\n",
        "  - Menampilkan Daftar Alat sesuai Pencarian\n",
        "  - Memunculkan `NOmor Inventaris, Nama, deskripsi` dan `status` dari barang yang di cari"
      ]
    },
    {
      "cell_type": "code",
      "execution_count": 5,
      "metadata": {
        "id": "97GU1xrKyjFt"
      },
      "outputs": [],
      "source": [
        "def daftar_alat():\n",
        "  cari_barang = input(\"Masukan Nama/Deskripsi Alat: \")\n",
        "  hasil_pencarian =[\n",
        "      alat for alat in alat_proyektor\n",
        "      if cari_barang.lower() in alat['nama'].lower()\n",
        "      or cari_barang.lower() in alat['deskripsi'].lower()\n",
        "      ]\n",
        "  if hasil_pencarian:\n",
        "        for alat in hasil_pencarian:\n",
        "            print(f\"Nomor Inventaris: {alat['nomor_inventaris']}, Nama: {alat['nama']}, Deskripsi: {alat['deskripsi']}, Status: {alat['status']}\")\n",
        "  else:\n",
        "        print(\"Tidak ada alat yang ditemukan dengan kategori tersebut.\")\n"
      ]
    },
    {
      "cell_type": "markdown",
      "metadata": {
        "id": "hcNrdR726fjX"
      },
      "source": [
        "####pinjam_alat_oleh_admin_staff()\n",
        " - Admin/Staff Menginput Nomor inventaris dan Nama Peminjam\n",
        " - Peminjaman di lakukan beradasarkan `nomor inventaris barang`\n",
        " - mengecek status barang apakan `tersedia` atau sedang `dipinjam`\n",
        " - mencatat siapa peminjam, tanggal peminjaman dengan maksimal 7 hari pengembalian\n",
        "\n"
      ]
    },
    {
      "cell_type": "code",
      "execution_count": 6,
      "metadata": {
        "id": "IUnTAruxgIt7"
      },
      "outputs": [],
      "source": [
        "def pinjam_alat_oleh_admin_staff(user):\n",
        "    nomor_inventaris = input(\"Masukkan nomor inventaris alat yang ingin dipinjam: \")\n",
        "    nama_anggota = input(\"Masukan Nama Peminjam\")\n",
        "    alat = next((a for a in alat_proyektor if a['nomor_inventaris'] == nomor_inventaris), None)\n",
        "    if alat and alat['status'] == 'tersedia':\n",
        "        alat['status'] = 'dipinjam'\n",
        "        tanggal_peminjaman = datetime.datetime.now()\n",
        "        tanggal_pengembalian = tanggal_peminjaman + datetime.timedelta(days=7)\n",
        "        riwayat_peminjaman.append({'nomor_inventaris': nomor_inventaris, 'nama_anggota': nama_anggota, 'tanggal_peminjaman': tanggal_peminjaman, 'tanggal_pengembalian': tanggal_pengembalian})\n",
        "        print(f\"Alat {alat['nama']} berhasil dipinjam oleh {nama_anggota}. Tanggal pengembalian: {tanggal_pengembalian}\")\n",
        "    else:\n",
        "        print(\"Alat tidak tersedia untuk dipinjam.\")\n"
      ]
    },
    {
      "cell_type": "markdown",
      "metadata": {
        "id": "eyakcL0u1VFN"
      },
      "source": [
        "####pinjam_alat()\n",
        " - Sisi User\n",
        " - Peminjaman di lakukan beradasarkan `nomor inventaris barang`\n",
        " - mengecek status barang apakan `tersedia` atau sedang `dipinjam`\n",
        " - mencatat siapa peminjam (dalam hal ini akun pengunjung), tanggal peminjaman dengan maksimal 7 hari pengembalian"
      ]
    },
    {
      "cell_type": "code",
      "execution_count": 7,
      "metadata": {
        "id": "UvT0E1ho1qEd"
      },
      "outputs": [],
      "source": [
        "def pinjam_alat(user):\n",
        "    nomor_inventaris = input(\"Masukkan nomor inventaris alat yang ingin dipinjam: \")\n",
        "    nama_anggota = input(\"Masukan Nama Peminjam\")\n",
        "    alat = next((a for a in alat_proyektor if a['nomor_inventaris'] == nomor_inventaris), None)\n",
        "    if alat and alat['status'] == 'tersedia':\n",
        "        alat['status'] = 'dipinjam'\n",
        "        tanggal_peminjaman = datetime.datetime.now()\n",
        "        tanggal_pengembalian = tanggal_peminjaman + datetime.timedelta(days=7)\n",
        "        riwayat_peminjaman.append({'nomor_inventaris': nomor_inventaris, 'nama_anggota': user['nama'], 'tanggal_peminjaman': tanggal_peminjaman, 'tanggal_pengembalian': tanggal_pengembalian})\n",
        "        print(f\"Alat {alat['nama']} berhasil dipinjam oleh {user['nama']}. Tanggal pengembalian: {tanggal_pengembalian}\")\n",
        "    else:\n",
        "        print(\"Alat tidak tersedia untuk dipinjam.\")\n"
      ]
    },
    {
      "cell_type": "markdown",
      "metadata": {
        "id": "0BRx3rcSg73d"
      },
      "source": [
        "####kembalikan_alat()\n",
        " - mengembalikan alat berdasarkan nomor inventaris\n",
        " - mengkalkulasi keterlambatan per hari yakni 10.000 rupiah\n",
        "\n",
        "\n",
        "\n",
        "\n"
      ]
    },
    {
      "cell_type": "code",
      "execution_count": 8,
      "metadata": {
        "id": "RWT-VlMvheJU"
      },
      "outputs": [],
      "source": [
        "def kembalikan_alat():\n",
        "    nomor_inventaris = input(\"Masukkan nomor inventaris alat yang akan dikembalikan: \")\n",
        "    alat = next((a for a in alat_proyektor if a['nomor_inventaris'] == nomor_inventaris), None)\n",
        "    if alat and alat['status'] == 'dipinjam':\n",
        "        alat['status'] = 'tersedia'\n",
        "        tanggal_pengembalian = datetime.datetime.now()\n",
        "        for peminjaman in riwayat_peminjaman:\n",
        "            if peminjaman['nomor_inventaris'] == nomor_inventaris:\n",
        "                if peminjaman['tanggal_pengembalian'] < tanggal_pengembalian:\n",
        "                    keterlambatan = (tanggal_pengembalian - peminjaman['tanggal_pengembalian']).days\n",
        "                    if keterlambatan > 0:\n",
        "                        denda = keterlambatan * 10000  # contoh denda Rp10,000 per hari\n",
        "                        print(f\"Pengembalian terlambat {keterlambatan} hari. Denda yang harus dibayarkan: Rp{denda}\")\n",
        "                break\n",
        "        print(f\"Alat {alat['nama']} berhasil dikembalikan.\")\n",
        "    else:\n",
        "        print(\"Alat tidak ditemukan atau sudah tersedia.\")\n"
      ]
    },
    {
      "cell_type": "markdown",
      "metadata": {
        "id": "vA_PEY7TkjAT"
      },
      "source": [
        "####status_alat()\n",
        " - Track status alat berdasarkan nomor inventaris menampilkan `sisa watu peminjaman`"
      ]
    },
    {
      "cell_type": "code",
      "execution_count": 9,
      "metadata": {
        "id": "mplBJqWnk9AB"
      },
      "outputs": [],
      "source": [
        "def status_alat():\n",
        "    nomor_inventaris = input(\"Masukkan nomor inventaris alat: \")\n",
        "    alat = next((a for a in alat_proyektor if a['nomor_inventaris'] == nomor_inventaris), None)\n",
        "    if alat:\n",
        "        print(f\"Status alat {alat['nama']}: {alat['status']}\")\n",
        "        if alat['status'] == 'dipinjam':\n",
        "            peminjaman = next((r for r in riwayat_peminjaman if r['nomor_inventaris'] == nomor_inventaris), None)\n",
        "            if peminjaman:\n",
        "                sisa_hari = (peminjaman['tanggal_pengembalian'] - datetime.datetime.now()).days\n",
        "                print(f\"Sisa waktu peminjaman: {sisa_hari} hari\")\n",
        "    else:\n",
        "        print(\"Alat tidak ditemukan.\")\n"
      ]
    },
    {
      "cell_type": "markdown",
      "metadata": {
        "id": "U7UYZ5TalCdn"
      },
      "source": [
        "####riwayat()\n",
        "\n",
        " - riwayat peminjaman dengan `level akses admin`\n",
        " - melihat peminjaman pribadi `level admin`\n",
        " - peminjaman seluruh anggota, dengan mencari anggota berdasarkan `nama`\n",
        " - Jika level `pengunjung`, akan menampilkan buku yang di pinjam berdasarkan pemilik akun yang sedang di gunakan\n"
      ]
    },
    {
      "cell_type": "code",
      "execution_count": 10,
      "metadata": {
        "id": "utby78W_lrcs"
      },
      "outputs": [],
      "source": [
        "def riwayat(user):\n",
        "    if user['level'] == 'admin' or user['level'] == 'staff':\n",
        "        pilihan = input(\"Lihat riwayat peminjaman (1) pribadi atau (2) keseluruhan? \")\n",
        "        if pilihan == '1':\n",
        "            nama_anggota = input(\"Masukkan nama anggota: \")\n",
        "            riwayat_pribadi = [r for r in riwayat_peminjaman if r['nama_anggota'] == nama_anggota]\n",
        "            for r in riwayat_pribadi:\n",
        "                print(f\"Nomor Inventaris: {r['nomor_inventaris']}, Tanggal Peminjaman: {r['tanggal_peminjaman']}, Tanggal Pengembalian: {r['tanggal_pengembalian']}\")\n",
        "        elif pilihan == '2':\n",
        "            for r in riwayat_peminjaman:\n",
        "                print(f\"Nomor Inventaris: {r['nomor_inventaris']}, Nama Anggota: {r['nama_anggota']}, Tanggal Peminjaman: {r['tanggal_peminjaman']}, Tanggal Pengembalian: {r['tanggal_pengembalian']}\")\n",
        "        else:\n",
        "            print(\"Pilihan tidak valid.\")\n",
        "    else:\n",
        "        riwayat_pribadi = [r for r in riwayat_peminjaman if r['nama_anggota'] == user['nama']]\n",
        "        for r in riwayat_pribadi:\n",
        "            print(f\"Nomor Inventaris: {r['nomor_inventaris']}, Tanggal Peminjaman: {r['tanggal_peminjaman']}, Tanggal Pengembalian: {r['tanggal_pengembalian']}\")\n"
      ]
    },
    {
      "cell_type": "markdown",
      "metadata": {
        "id": "Db4kBlAqlt2Z"
      },
      "source": [
        "####manajemen_alat()\n",
        " - akses manajemen level admin untuk menambahkan proyektor dengan parameter `nama_alat, deskripsi, nomor_inventaris`\n",
        " - hapus proyektor berdasarkan `nomor_inventaris`\n",
        " - merubah informasi alat berdasarkan `nomor_inventaris`"
      ]
    },
    {
      "cell_type": "code",
      "execution_count": 11,
      "metadata": {
        "id": "WNpY3Gu3mX6h"
      },
      "outputs": [],
      "source": [
        "def manajemen_alat(user):\n",
        "    if user['level'] == 'admin':\n",
        "        pilihan = input(\"Manajemen alat: (1) Tambah, (2) Hapus, (3) Ubah? \")\n",
        "        if pilihan == '1':\n",
        "            nomor_inventaris = input(\"Masukkan nomor inventaris: \")\n",
        "            nama = input(\"Masukkan nama alat: \")\n",
        "            deskripsi = input(\"Masukkan deskripsi alat: \")\n",
        "            alat_proyektor.append({'nomor_inventaris': nomor_inventaris, 'nama': nama, 'deskripsi': deskripsi, 'status': 'tersedia'})\n",
        "            print(\"Alat berhasil ditambahkan.\")\n",
        "        elif pilihan == '2':\n",
        "            nomor_inventaris = input(\"Masukkan nomor inventaris alat yang akan dihapus: \")\n",
        "            alat_proyektor[:] = [a for a in alat_proyektor if a['nomor_inventaris'] != nomor_inventaris]\n",
        "            print(\"Alat berhasil dihapus.\")\n",
        "        elif pilihan == '3':\n",
        "            nomor_inventaris = input(\"Masukkan nomor inventaris alat yang akan diubah: \")\n",
        "            alat = next((a for a in alat_proyektor if a['nomor_inventaris'] == nomor_inventaris), None)\n",
        "            if alat:\n",
        "                nama = input(f\"Masukkan nama alat baru (sebelumnya {alat['nama']}): \")\n",
        "                deskripsi = input(f\"Masukkan deskripsi alat baru (sebelumnya {alat['deskripsi']}): \")\n",
        "                alat['nama'] = nama\n",
        "                alat['deskripsi'] = deskripsi\n",
        "                print(\"Alat berhasil diubah.\")\n",
        "            else:\n",
        "                print(\"Alat tidak ditemukan.\")\n",
        "        else:\n",
        "            print(\"Pilihan tidak valid.\")\n",
        "    else:\n",
        "        print(\"Anda tidak memiliki hak akses untuk mengelola data alat elektronik.\")\n"
      ]
    },
    {
      "cell_type": "markdown",
      "metadata": {
        "id": "Mu6YXxiAo5pM"
      },
      "source": [
        "####manajemen_akun()\n",
        " - menambahkan `profil` dan `akun`\n",
        " - hapus `akun` berdasarkan `username`\n",
        " - ubah `akun` berdasarkan `username`\n",
        " - view `akun` berdasarkan `username`\n",
        "\n"
      ]
    },
    {
      "cell_type": "code",
      "execution_count": 12,
      "metadata": {
        "id": "D-T1Tw7xoto4"
      },
      "outputs": [],
      "source": [
        "def manajemen_akun():\n",
        "    pilihan = input(\"Manajemen akun: (1) Tambah, (2) Hapus, (3) Ubah, (4) Lihat Profil? \")\n",
        "    if pilihan == '1':\n",
        "        nama = input(\"Masukkan nama: \")\n",
        "        alamat = input(\"Masukkan alamat: \")\n",
        "        nomor_telepon = input(\"Masukkan nomor telepon: \")\n",
        "        username = input(\"Masukkan username: \")\n",
        "        password = input(\"Masukkan password: \")\n",
        "        nik = input(\"Masukan NIK: \")\n",
        "        level = input(\"Masukkan level (pengunjung/staff/admin): \")\n",
        "        anggota.append({\n",
        "            'nama': nama,\n",
        "            'alamat': alamat,\n",
        "            'nomor_telepon': nomor_telepon,\n",
        "            'nik': nik,\n",
        "            'username': username,\n",
        "            'password': password,\n",
        "            'level': level\n",
        "            })\n",
        "        print(\"Akun berhasil ditambahkan.\")\n",
        "    elif pilihan == '2':\n",
        "        username = input(\"Masukkan username akun yang akan dihapus: \")\n",
        "        anggota[:] = [a for a in anggota if a['username'] != username]\n",
        "        print(\"Akun berhasil dihapus.\")\n",
        "    elif pilihan == '3':\n",
        "        username = input(\"Masukkan username akun yang akan diubah: \")\n",
        "        akun = next((a for a in anggota if a['username'] == username), None)\n",
        "        if akun:\n",
        "            nama = input(f\"Masukkan nama baru (sebelumnya {akun['nama']}): \")\n",
        "            alamat = input(f\"Masukkan alamat baru (sebelumnya {akun['alamat']}): \")\n",
        "            nomor_telepon = input(f\"Masukkan nomor telepon baru (sebelumnya {akun['nomor_telepon']}): \")\n",
        "            nik = input(f\"Masukkan NIK (sebelumnya {akun['nik']}): \")\n",
        "            password = input(f\"Masukkan password baru (sebelumnya {akun['password']}): \")\n",
        "            level = input(f\"Masukkan level baru (sebelumnya {akun['level']}): \")\n",
        "            akun['nama'] = nama\n",
        "            akun['alamat'] = alamat\n",
        "            akun['nomor_telepon'] = nomor_telepon\n",
        "            akun['nik'] = nik\n",
        "            akun['password'] = password\n",
        "            akun['level'] = level\n",
        "            print(\"Akun berhasil diubah.\")\n",
        "        else:\n",
        "            print(\"Akun tidak ditemukan.\")\n",
        "    elif pilihan == '4':\n",
        "        username = input(\"Masukkan username akun yang akan dilihat: \")\n",
        "        akun = next((a for a in anggota if a['username'] == username), None)\n",
        "        if akun:\n",
        "            print(f\"Nama: {akun['nama']}\")\n",
        "            print(f\"Alamat: {akun['alamat']}\")\n",
        "            print(f\"Nomor Telepon: {akun['nomor_telepon']}\")\n",
        "            print(f\"NIK: {akun['nik']}\")\n",
        "            print(f\"Username: {akun['username']}\")\n",
        "            print(f\"Level: {akun['level']}\")\n",
        "        else:\n",
        "            print(\"Akun tidak ditemukan.\")\n",
        "    else:\n",
        "        print(\"Pilihan tidak valid.\")\n"
      ]
    },
    {
      "cell_type": "markdown",
      "metadata": {
        "id": "HsSbtF9TrlPt"
      },
      "source": [
        "#### main()\n",
        "\n",
        "- Inisiasi `nama_software`\n",
        "- Menampilkan Halaman Utama\n",
        "  - Login\n",
        "  - Daftar Anggota\n",
        "  - Exit\n",
        "\n",
        "- Pengunjung\n",
        "   1. Cari dan Daftar Alat Elektronik\n",
        "   2. Status Ketersediaan Alat Elektronik\n",
        "   3. Riwayat Peminjaman (Akun pribadi)\n",
        "   4. Logout\n",
        "   5. Exit\n",
        "\n",
        "\n",
        "- Staff\n",
        "  1. Cari dan Daftar Alat Elektronik\n",
        "  2. Pinjam Alat Elektronik\" (Untuk Pengunjung)\n",
        "  3. Kembalikan Alat Elektronik\n",
        "  4. Status Ketersediaan Alat Elektronik\n",
        "  5. Riwayat Peminjaman (Cari Riwayat Berdasarkan Nama User)\n",
        "  6. Logout\n",
        "  7. Exit\n",
        "\n",
        "- Admin\n",
        "  1. Cari dan Daftar Alat Elektronik\n",
        "  2. Pinjam Alat Elektronik (Untuk Pengunjung)\n",
        "  3. Kembalikan Alat Elektronik\n",
        "  4. Status Ketersediaan Alat Elektronik\n",
        "  5. Riwayat Peminjaman (Cari Riwayat Berdasarkan User\n",
        "  6. Manajemen Data Alat Elektronik\n",
        "  7. Manajemen Akun\n",
        "  8. Logout\n",
        "  9. Exit\n"
      ]
    },
    {
      "cell_type": "code",
      "execution_count": 13,
      "metadata": {
        "id": "BtiIBhODt8q6"
      },
      "outputs": [],
      "source": [
        "def main():\n",
        "    software_name = inisiasi()\n",
        "    user = None\n",
        "    while True:\n",
        "        if not user:\n",
        "            print(\"\\n1. Login\")\n",
        "            print(\"2. Daftar Anggota\")\n",
        "            print(\"3. Exit\")\n",
        "            pilihan = input(\"Pilih menu: \")\n",
        "            if pilihan == '1':\n",
        "                user = verifikasi()\n",
        "            elif pilihan == '2':\n",
        "                registrasi_anggota()\n",
        "            elif pilihan == '3':\n",
        "                print(\"Terima kasih telah menggunakan sistem ini!\")\n",
        "                break\n",
        "            else:\n",
        "                print(\"Pilihan tidak valid. Silakan coba lagi.\")\n",
        "        else:\n",
        "            print(f\"\\n-- {software_name} --\")\n",
        "            if user['level'] == 'admin':\n",
        "                print(\"1. Cari dan Daftar Alat Elektronik\")\n",
        "                print(\"2. Pinjam Alat Elektronik (Untuk Pengunjung)\")\n",
        "                print(\"3. Kembalikan Alat Elektronik\")\n",
        "                print(\"4. Status Ketersediaan Alat Elektronik\")\n",
        "                print(\"5. Riwayat Peminjaman\")\n",
        "                print(\"6. Manajemen Data Alat Elektronik\")\n",
        "                print(\"7. Manajemen Akun\")\n",
        "                print(\"8. Logout\")\n",
        "                print(\"9. Exit\")\n",
        "                pilihan = input(\"Pilih menu: \")\n",
        "                if pilihan == '1':\n",
        "                    daftar_alat()\n",
        "                elif pilihan == '2':\n",
        "                    pinjam_alat_oleh_admin_staff(user)\n",
        "                elif pilihan == '3':\n",
        "                    kembalikan_alat()\n",
        "                elif pilihan == '4':\n",
        "                    status_alat()\n",
        "                elif pilihan == '5':\n",
        "                    riwayat(user)\n",
        "                elif pilihan == '6':\n",
        "                    manajemen_alat(user)\n",
        "                elif pilihan == '7':\n",
        "                    manajemen_akun()\n",
        "                elif pilihan == '8':\n",
        "                    user = None\n",
        "                elif pilihan == '9':\n",
        "                    print(\"Terima kasih telah menggunakan sistem ini!\")\n",
        "                    break\n",
        "                else:\n",
        "                    print(\"Pilihan tidak valid. Silakan coba lagi.\")\n",
        "            elif user['level'] == 'staff':\n",
        "                print(\"1. Cari dan Daftar Alat Elektronik\")\n",
        "                print(\"2. Pinjam Alat Elektronik(Untuk Pengunjung)\")\n",
        "                print(\"3. Kembalikan Alat Elektronik\")\n",
        "                print(\"4. Status Ketersediaan Alat Elektronik\")\n",
        "                print(\"5. Riwayat Peminjaman\")\n",
        "                print(\"6. Logout\")\n",
        "                print(\"7. Exit\")\n",
        "                pilihan = input(\"Pilih menu: \")\n",
        "                if pilihan == '1':\n",
        "                    daftar_alat()\n",
        "                elif pilihan == '2':\n",
        "                    pinjam_alat_oleh_admin_staff(user)\n",
        "                elif pilihan == '3':\n",
        "                    kembalikan_alat()\n",
        "                elif pilihan == '4':\n",
        "                    status_alat()\n",
        "                elif pilihan == '5':\n",
        "                    riwayat(user)\n",
        "                elif pilihan == '6':\n",
        "                    user = None\n",
        "                elif pilihan == '7':\n",
        "                    print(\"Terima kasih telah menggunakan sistem ini!\")\n",
        "                    break\n",
        "                else:\n",
        "                    print(\"Pilihan tidak valid. Silakan coba lagi.\")\n",
        "            elif user['level'] == 'pengunjung':\n",
        "                print(\"1. Cari dan Daftar Alat Elektronik\")\n",
        "                print(\"2. Pinjam Buku\")\n",
        "                print(\"3. Status Ketersediaan Alat Elektronik\")\n",
        "                print(\"4. Riwayat Peminjaman\")\n",
        "                print(\"4. Logout\")\n",
        "                print(\"5. Exit\")\n",
        "                pilihan = input(\"Pilih menu: \")\n",
        "                if pilihan == '1':\n",
        "                    daftar_alat()\n",
        "                elif pilihan == '2':\n",
        "                    pinjam_alat(user)\n",
        "                elif pilihan == '3':\n",
        "                    status_alat()\n",
        "                elif pilihan == '4':\n",
        "                    riwayat(user)\n",
        "                elif pilihan == '5':\n",
        "                    user = None\n",
        "                elif pilihan == '6':\n",
        "                    print(\"Terima kasih telah menggunakan sistem ini!\")\n",
        "                    break\n",
        "                else:\n",
        "                    print(\"Pilihan tidak valid. Silakan coba lagi.\")\n",
        "\n",
        "\n"
      ]
    },
    {
      "cell_type": "code",
      "execution_count": null,
      "metadata": {
        "colab": {
          "base_uri": "https://localhost:8080/"
        },
        "id": "2F-p7j3G6a8d",
        "outputId": "2cc2bebf-e5ee-4f60-b365-5f1164916e8a"
      },
      "outputs": [
       
      ],
      "source": [
        "main()"
      ]
    }
  ],
  "metadata": {
    "colab": {
      "provenance": []
    },
    "kernelspec": {
      "display_name": "Python 3",
      "name": "python3"
    },
    "language_info": {
      "name": "python"
    }
  },
  "nbformat": 4,
  "nbformat_minor": 0
}
